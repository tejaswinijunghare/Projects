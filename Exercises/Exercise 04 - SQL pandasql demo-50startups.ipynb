{
 "cells": [
  {
   "cell_type": "code",
   "execution_count": 3,
   "metadata": {},
   "outputs": [
    {
     "name": "stdout",
     "output_type": "stream",
     "text": [
      "Collecting pandasql\n",
      "  Downloading https://files.pythonhosted.org/packages/6b/c4/ee4096ffa2eeeca0c749b26f0371bd26aa5c8b611c43de99a4f86d3de0a7/pandasql-0.7.3.tar.gz\n",
      "Requirement already satisfied: numpy in c:\\anaconda3\\lib\\site-packages (from pandasql) (1.16.4)\n",
      "Requirement already satisfied: pandas in c:\\anaconda3\\lib\\site-packages (from pandasql) (0.23.3)\n",
      "Requirement already satisfied: sqlalchemy in c:\\anaconda3\\lib\\site-packages (from pandasql) (1.3.1)\n",
      "Requirement already satisfied: python-dateutil>=2.5.0 in c:\\anaconda3\\lib\\site-packages (from pandas->pandasql) (2.8.0)\n",
      "Requirement already satisfied: pytz>=2011k in c:\\anaconda3\\lib\\site-packages (from pandas->pandasql) (2018.9)\n",
      "Requirement already satisfied: six>=1.5 in c:\\anaconda3\\lib\\site-packages (from python-dateutil>=2.5.0->pandas->pandasql) (1.12.0)\n",
      "Building wheels for collected packages: pandasql\n",
      "  Building wheel for pandasql (setup.py): started\n",
      "  Building wheel for pandasql (setup.py): finished with status 'done'\n",
      "  Stored in directory: C:\\Users\\hipra\\AppData\\Local\\pip\\Cache\\wheels\\53\\6c\\18\\b87a2e5fa8a82e9c026311de56210b8d1c01846e18a9607fc9\n",
      "Successfully built pandasql\n",
      "Installing collected packages: pandasql\n",
      "Successfully installed pandasql-0.7.3\n"
     ]
    }
   ],
   "source": [
    "!pip install pandasql\n",
    "import numpy as np\n",
    "import pandas as pd\n",
    "import matplotlib.pyplot as plt\n",
    "import seaborn as sns\n",
    "import sklearn as sklearn\n",
    "import scipy"
   ]
  },
  {
   "cell_type": "code",
   "execution_count": null,
   "metadata": {},
   "outputs": [],
   "source": [
    "from sklearn.datasets import load_iris\n",
    "import pandas as pd\n",
    "from pandasql import sqldf\n",
    "#from pandasql import load_meat, load_births\n",
    "import re\n",
    "data = pd.read_csv(\"D:/Documents/Data Science/regression/50-Startups.csv\")"
   ]
  },
  {
   "cell_type": "code",
   "execution_count": 6,
   "metadata": {},
   "outputs": [],
   "source": [
    "births = load_births()\n",
    "meat = load_meat()\n",
    "iris = load_iris()\n",
    "\n",
    "\n",
    "iris_df = pd.DataFrame(iris.data, columns=iris.feature_names)\n",
    "\n",
    "iris_df['species'] = pd.Categorical.from_codes(iris.target, iris.target_names)\n",
    "\n",
    "iris_df.columns = [re.sub(\"[() ]\", \"\", col) for col in iris_df.columns]"
   ]
  },
  {
   "cell_type": "code",
   "execution_count": 3,
   "metadata": {},
   "outputs": [
    {
     "data": {
      "text/html": [
       "<div>\n",
       "<style scoped>\n",
       "    .dataframe tbody tr th:only-of-type {\n",
       "        vertical-align: middle;\n",
       "    }\n",
       "\n",
       "    .dataframe tbody tr th {\n",
       "        vertical-align: top;\n",
       "    }\n",
       "\n",
       "    .dataframe thead th {\n",
       "        text-align: right;\n",
       "    }\n",
       "</style>\n",
       "<table border=\"1\" class=\"dataframe\">\n",
       "  <thead>\n",
       "    <tr style=\"text-align: right;\">\n",
       "      <th></th>\n",
       "      <th>R&amp;D Spend</th>\n",
       "      <th>Administration</th>\n",
       "      <th>Marketing Spend</th>\n",
       "      <th>State</th>\n",
       "      <th>Profit</th>\n",
       "    </tr>\n",
       "  </thead>\n",
       "  <tbody>\n",
       "    <tr>\n",
       "      <th>0</th>\n",
       "      <td>165349.20</td>\n",
       "      <td>136897.80</td>\n",
       "      <td>471784.10</td>\n",
       "      <td>New York</td>\n",
       "      <td>192261.83</td>\n",
       "    </tr>\n",
       "    <tr>\n",
       "      <th>1</th>\n",
       "      <td>162597.70</td>\n",
       "      <td>151377.59</td>\n",
       "      <td>443898.53</td>\n",
       "      <td>California</td>\n",
       "      <td>191792.06</td>\n",
       "    </tr>\n",
       "    <tr>\n",
       "      <th>2</th>\n",
       "      <td>153441.51</td>\n",
       "      <td>101145.55</td>\n",
       "      <td>407934.54</td>\n",
       "      <td>California</td>\n",
       "      <td>191050.39</td>\n",
       "    </tr>\n",
       "    <tr>\n",
       "      <th>3</th>\n",
       "      <td>144372.41</td>\n",
       "      <td>118671.85</td>\n",
       "      <td>383199.62</td>\n",
       "      <td>New York</td>\n",
       "      <td>182901.99</td>\n",
       "    </tr>\n",
       "    <tr>\n",
       "      <th>4</th>\n",
       "      <td>142107.34</td>\n",
       "      <td>91391.77</td>\n",
       "      <td>366168.42</td>\n",
       "      <td>California</td>\n",
       "      <td>166187.94</td>\n",
       "    </tr>\n",
       "  </tbody>\n",
       "</table>\n",
       "</div>"
      ],
      "text/plain": [
       "   R&D Spend  Administration  Marketing Spend       State     Profit\n",
       "0  165349.20       136897.80        471784.10    New York  192261.83\n",
       "1  162597.70       151377.59        443898.53  California  191792.06\n",
       "2  153441.51       101145.55        407934.54  California  191050.39\n",
       "3  144372.41       118671.85        383199.62    New York  182901.99\n",
       "4  142107.34        91391.77        366168.42  California  166187.94"
      ]
     },
     "execution_count": 3,
     "metadata": {},
     "output_type": "execute_result"
    }
   ],
   "source": [
    "data.head()"
   ]
  },
  {
   "cell_type": "code",
   "execution_count": 7,
   "metadata": {},
   "outputs": [
    {
     "name": "stdout",
     "output_type": "stream",
     "text": [
      "   R&D Spend  Administration  Marketing Spend       State     Profit\n",
      "0  165349.20       136897.80        471784.10    New York  192261.83\n",
      "1  162597.70       151377.59        443898.53  California  191792.06\n",
      "2  153441.51       101145.55        407934.54  California  191050.39\n",
      "3  144372.41       118671.85        383199.62    New York  182901.99\n",
      "4  142107.34        91391.77        366168.42  California  166187.94\n",
      "5  131876.90        99814.71        362861.36    New York  156991.12\n",
      "6  134615.46       147198.87        127716.82  California  156122.51\n",
      "7  130298.13       145530.06        323876.68    New York  155752.60\n",
      "8  120542.52       148718.95        311613.29    New York  152211.77\n",
      "9  123334.88       108679.17        304981.62  California  149759.96\n",
      "        State  Administration     Profit\n",
      "0    New York       136897.80  192261.83\n",
      "1  California       151377.59  191792.06\n",
      "2  California       101145.55  191050.39\n",
      "3    New York       118671.85  182901.99\n",
      "4  California        91391.77  166187.94\n",
      "5    New York        99814.71  156991.12\n",
      "6  California       147198.87  156122.51\n",
      "7    New York       145530.06  155752.60\n",
      "8    New York       148718.95  152211.77\n",
      "9  California       108679.17  149759.96\n"
     ]
    }
   ],
   "source": [
    "print(sqldf(\"SELECT * FROM data LIMIT 10;\", locals()))\n",
    "\n",
    "print(sqldf(\"SELECT State, Administration, Profit FROM data LIMIT 10;\", locals()))"
   ]
  },
  {
   "cell_type": "code",
   "execution_count": 8,
   "metadata": {},
   "outputs": [
    {
     "name": "stdout",
     "output_type": "stream",
     "text": [
      "********************************************************************************\n",
      "aggregation\n",
      "--------------------------------------------------------------------------------\n",
      "\n",
      "      select\n",
      "        State\n",
      "        , avg(Profit)\n",
      "        , min(Profit)\n",
      "        , max(Profit)\n",
      "      from\n",
      "        data\n",
      "      group by\n",
      "        State;\n",
      "        \n",
      "\n",
      "        State  avg(Profit)  min(Profit)  max(Profit)\n",
      "0  California  110308.3840     14681.40    191792.06\n",
      "1    New York  113716.8944     35673.41    192261.83\n"
     ]
    }
   ],
   "source": [
    "q = \"\"\"\n",
    "      select\n",
    "        State\n",
    "        , avg(Profit)\n",
    "        , min(Profit)\n",
    "        , max(Profit)\n",
    "      from\n",
    "        data\n",
    "      group by\n",
    "        State;\n",
    "        \n",
    "\"\"\"\n",
    "print(\"*\" * 80)\n",
    "print(\"aggregation\")\n",
    "print(\"-\" * 80)\n",
    "print(q)\n",
    "print(sqldf(q, locals()))"
   ]
  },
  {
   "cell_type": "code",
   "execution_count": 9,
   "metadata": {},
   "outputs": [
    {
     "name": "stdout",
     "output_type": "stream",
     "text": [
      "********************************************************************************\n",
      "calling from a helper function\n",
      "def pysqldf(q):)\n",
      "    \"add this to your script if you get tired of calling locals()\"\n",
      "        return sqldf(q, globals())\n",
      "--------------------------------------------------------------------------------\n",
      "\n",
      "      select\n",
      "        State\n",
      "        , avg(Profit)\n",
      "        , min(Profit)\n",
      "        , max(Profit)\n",
      "      from\n",
      "        data\n",
      "      group by\n",
      "        State;\n",
      "        \n",
      "\n",
      "        State  avg(Profit)  min(Profit)  max(Profit)\n",
      "0  California  110308.3840     14681.40    191792.06\n",
      "1    New York  113716.8944     35673.41    192261.83\n"
     ]
    }
   ],
   "source": [
    "def pysqldf(q):\n",
    "    \"add this to your script if you get tired of calling locals()\"\n",
    "    return sqldf(q, globals())\n",
    "\n",
    "\n",
    "print(\"*\" * 80)\n",
    "print(\"calling from a helper function\")\n",
    "print('''def pysqldf(q):)\n",
    "    \"add this to your script if you get tired of calling locals()\"\n",
    "        return sqldf(q, globals())''')\n",
    "print(\"-\" * 80)\n",
    "print(q)\n",
    "print(pysqldf(q))"
   ]
  },
  {
   "cell_type": "code",
   "execution_count": 10,
   "metadata": {},
   "outputs": [
    {
     "name": "stdout",
     "output_type": "stream",
     "text": [
      "********************************************************************************\n",
      "joins\n",
      "--------------------------------------------------------------------------------\n",
      "\n",
      "    select\n",
      "        a.*\n",
      "    from\n",
      "        data a\n",
      "    inner join\n",
      "        data b\n",
      "            on a.State = b.State\n",
      "    limit 10;\n",
      "\n",
      "   R&D Spend  Administration  Marketing Spend     State     Profit\n",
      "0   165349.2        136897.8         471784.1  New York  192261.83\n",
      "1   165349.2        136897.8         471784.1  New York  192261.83\n",
      "2   165349.2        136897.8         471784.1  New York  192261.83\n",
      "3   165349.2        136897.8         471784.1  New York  192261.83\n",
      "4   165349.2        136897.8         471784.1  New York  192261.83\n",
      "5   165349.2        136897.8         471784.1  New York  192261.83\n",
      "6   165349.2        136897.8         471784.1  New York  192261.83\n",
      "7   165349.2        136897.8         471784.1  New York  192261.83\n",
      "8   165349.2        136897.8         471784.1  New York  192261.83\n",
      "9   165349.2        136897.8         471784.1  New York  192261.83\n"
     ]
    }
   ],
   "source": [
    "q = \"\"\"\n",
    "    select\n",
    "        a.*\n",
    "    from\n",
    "        data a\n",
    "    inner join\n",
    "        data b\n",
    "            on a.State = b.State\n",
    "    limit 10;\n",
    "\"\"\"\n",
    "\n",
    "print(\"*\" * 80)\n",
    "print(\"joins\")\n",
    "print(\"-\" * 80)\n",
    "print(q)\n",
    "print(pysqldf(q))"
   ]
  },
  {
   "cell_type": "code",
   "execution_count": 11,
   "metadata": {},
   "outputs": [
    {
     "name": "stdout",
     "output_type": "stream",
     "text": [
      "********************************************************************************\n",
      "where clause\n",
      "--------------------------------------------------------------------------------\n",
      "\n",
      "    select\n",
      "        *\n",
      "    from\n",
      "        data\n",
      "    where\n",
      "        State = 'California'\n",
      "        and Profit > 150000;\n",
      "\n",
      "   R&D Spend  Administration  Marketing Spend       State     Profit\n",
      "0  162597.70       151377.59        443898.53  California  191792.06\n",
      "1  153441.51       101145.55        407934.54  California  191050.39\n",
      "2  142107.34        91391.77        366168.42  California  166187.94\n",
      "3  134615.46       147198.87        127716.82  California  156122.51\n"
     ]
    }
   ],
   "source": [
    "q = \"\"\"\n",
    "    select\n",
    "        *\n",
    "    from\n",
    "        data\n",
    "    where\n",
    "        State = 'California'\n",
    "        and Profit > 150000;\n",
    "\"\"\"\n",
    "print(\"*\" * 80)\n",
    "print(\"where clause\")\n",
    "print(\"-\" * 80)\n",
    "print(q)\n",
    "print(pysqldf(q))"
   ]
  },
  {
   "cell_type": "code",
   "execution_count": 13,
   "metadata": {},
   "outputs": [
    {
     "name": "stdout",
     "output_type": "stream",
     "text": [
      "********************************************************************************\n",
      "subqueries\n",
      "--------------------------------------------------------------------------------\n",
      "\n",
      "    select\n",
      "        *\n",
      "    from\n",
      "        data\n",
      "    where\n",
      "        id in (select id from data where Profit/Administration > 1.25);\n",
      "\n",
      "   R&D Spend  Administration  Marketing Spend       State     Profit  id\n",
      "0  165349.20       136897.80        471784.10    New York  192261.83   0\n",
      "1  162597.70       151377.59        443898.53  California  191792.06   1\n",
      "2  153441.51       101145.55        407934.54  California  191050.39   2\n",
      "3  144372.41       118671.85        383199.62    New York  182901.99   3\n",
      "4  142107.34        91391.77        366168.42  California  166187.94   4\n",
      "5  131876.90        99814.71        362861.36    New York  156991.12   5\n",
      "6  123334.88       108679.17        304981.62  California  149759.96   9\n",
      "7  101913.08       110594.11        229160.95  California  146121.95  10\n",
      "8  100671.96        91790.61        249744.55  California  144259.40  11\n",
      "9   44069.95        51283.14        197029.42  California   89949.14  37\n"
     ]
    }
   ],
   "source": [
    "data['id'] = range(len(data))\n",
    "q = \"\"\"\n",
    "    select\n",
    "        *\n",
    "    from\n",
    "        data\n",
    "    where\n",
    "        id in (select id from data where Profit/Administration > 1.25);\n",
    "\"\"\"\n",
    "print(\"*\" * 80)\n",
    "print(\"subqueries\")\n",
    "print(\"-\" * 80)\n",
    "print(q)\n",
    "print(pysqldf(q))"
   ]
  }
 ],
 "metadata": {
  "kernelspec": {
   "display_name": "Python 3",
   "language": "python",
   "name": "python3"
  },
  "language_info": {
   "codemirror_mode": {
    "name": "ipython",
    "version": 3
   },
   "file_extension": ".py",
   "mimetype": "text/x-python",
   "name": "python",
   "nbconvert_exporter": "python",
   "pygments_lexer": "ipython3",
   "version": "3.7.3"
  }
 },
 "nbformat": 4,
 "nbformat_minor": 2
}
